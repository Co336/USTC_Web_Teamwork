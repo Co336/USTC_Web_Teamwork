{
 "cells": [
  {
   "cell_type": "code",
   "execution_count": 4,
   "metadata": {},
   "outputs": [],
   "source": [
    "import torch\n",
    "import pickle\n",
    "import numpy as np\n",
    "import pandas as pd\n",
    "from torch import nn\n",
    "from tqdm import tqdm\n",
    "from torch.utils.data import Dataset\n",
    "from torch.utils.data import DataLoader\n",
    "from sklearn.model_selection import train_test_split\n",
    "from sklearn.metrics import ndcg_score\n",
    "\n",
    "device = torch.device(\"cuda\" if torch.cuda.is_available() else \"cpu\")"
   ]
  },
  {
   "cell_type": "code",
   "execution_count": 5,
   "metadata": {},
   "outputs": [],
   "source": [
    "# Load Bert Model\n",
    "from transformers import BertTokenizer, BertModel\n",
    "import torch\n",
    "\n",
    "tokenizer = BertTokenizer.from_pretrained('bert-base-chinese')\n",
    "model = BertModel.from_pretrained('bert-base-chinese').cuda()"
   ]
  },
  {
   "cell_type": "code",
   "execution_count": 6,
   "metadata": {},
   "outputs": [
    {
     "name": "stderr",
     "output_type": "stream",
     "text": [
      "1200it [00:37, 32.12it/s]\n"
     ]
    }
   ],
   "source": [
    "# Calculate Tag Embeddings\n",
    "loaded_data = pd.read_csv('data\\selected_movie_top_1200_data_tag.csv')\n",
    "\n",
    "tag_embedding_dict = {}\n",
    "\n",
    "with torch.no_grad():\n",
    "    for index, rows in tqdm(loaded_data.iterrows()):\n",
    "        # Convert tag list to string\n",
    "        tags_str = \" \".join(rows.Tags)\n",
    "        # Use BERT to get tag embedding\n",
    "        inputs = tokenizer(tags_str, truncation=True, return_tensors='pt')\n",
    "        outputs = model(inputs.input_ids.cuda(), inputs.token_type_ids.cuda(), inputs.attention_mask.cuda())\n",
    "        tag_embedding = outputs.last_hidden_state.mean(dim=1).cpu()\n",
    "        tag_embedding_dict[rows.Movie] = tag_embedding"
   ]
  },
  {
   "cell_type": "code",
   "execution_count": 7,
   "metadata": {},
   "outputs": [],
   "source": [
    "# Save embeddings dict\n",
    "with open('data/movie_tag_embedding_dict.pkl', 'wb') as f:\n",
    "    pickle.dump(tag_embedding_dict, f)"
   ]
  },
  {
   "cell_type": "code",
   "execution_count": 8,
   "metadata": {},
   "outputs": [],
   "source": [
    "# Load embeddings dict\n",
    "with open('data/movie_tag_embedding_dict.pkl', 'rb') as f:\n",
    "    tag_embedding_dict = pickle.load(f)"
   ]
  },
  {
   "cell_type": "code",
   "execution_count": 9,
   "metadata": {},
   "outputs": [
    {
     "name": "stderr",
     "output_type": "stream",
     "text": [
      "715024it [22:09, 537.87it/s] \n"
     ]
    }
   ],
   "source": [
    "# Calculate Score Tag Embeddings\n",
    "loaded_data = pd.read_csv('data\\\\movie_score.csv')\n",
    "\n",
    "rating_embedding_dict = {}\n",
    "string_to_embedding_dict = {}\n",
    "\n",
    "with torch.no_grad():\n",
    "    for index, rows in tqdm(loaded_data.iterrows()):\n",
    "        # Convert tag list to string\n",
    "        tags_str = '' if rows.Tag != rows.Tag else rows.Tag\n",
    "        if tags_str in string_to_embedding_dict:\n",
    "            tag_embedding = string_to_embedding_dict[tags_str]\n",
    "        else:\n",
    "            # Use BERT to get tag embedding\n",
    "            inputs = tokenizer(tags_str, truncation=True, return_tensors='pt')\n",
    "            outputs = model(inputs.input_ids.cuda(), inputs.token_type_ids.cuda(), inputs.attention_mask.cuda())\n",
    "            tag_embedding = outputs.last_hidden_state.mean(dim=1).cpu()\n",
    "            string_to_embedding_dict[tags_str] = tag_embedding\n",
    "        rating_embedding_dict[(rows.User, rows.Movie)] = tag_embedding"
   ]
  },
  {
   "cell_type": "code",
   "execution_count": 10,
   "metadata": {},
   "outputs": [],
   "source": [
    "# Save rating embeddings dict\n",
    "with open('data/movie_rating_embedding_dict.pkl', 'wb') as f:\n",
    "    pickle.dump(rating_embedding_dict, f)"
   ]
  },
  {
   "cell_type": "code",
   "execution_count": 11,
   "metadata": {},
   "outputs": [],
   "source": [
    "# Load rating embeddings dict\n",
    "with open('data/movie_rating_embedding_dict.pkl', 'rb') as f:\n",
    "    rating_embedding_dict = pickle.load(f)"
   ]
  },
  {
   "cell_type": "code",
   "execution_count": 12,
   "metadata": {},
   "outputs": [],
   "source": [
    "# Create Dataset Class\n",
    "class MovieRatingDataset(Dataset):\n",
    "    def __init__(self, data, user_idx, movie_idx, tag_embedding_dict, rating_embedding_dict):\n",
    "        self.data = data\n",
    "        self.user_idx = user_idx\n",
    "        self.movie_idx = movie_idx\n",
    "        self.tag_embedding_dict = tag_embedding_dict\n",
    "        self.rating_embedding_dict = rating_embedding_dict\n",
    "\n",
    "    def __getitem__(self, index):\n",
    "        row = self.data.iloc[index]\n",
    "        user = self.user_idx[row['User']]\n",
    "        movie = self.movie_idx[row['Movie']]\n",
    "        rating = row['Rate'].astype('float32')\n",
    "        tag_embedding = self.tag_embedding_dict[row['Movie']]\n",
    "        rating_embedding = self.rating_embedding_dict[(row['User'], row['Movie'])]\n",
    "        return user, movie, rating, tag_embedding, rating_embedding\n",
    "\n",
    "    def __len__(self):\n",
    "        return len(self.data)"
   ]
  },
  {
   "cell_type": "code",
   "execution_count": 13,
   "metadata": {},
   "outputs": [],
   "source": [
    "# Create Model\n",
    "class RatingPredictionModel(nn.Module):\n",
    "    def __init__(self, user_count, movie_count, entity_embeddings_dim, text_embeddings_dim):\n",
    "        super(RatingPredictionModel, self).__init__()\n",
    "        self.user_embeddings = nn.Embedding(user_count, entity_embeddings_dim)\n",
    "        self.movie_embeddings = nn.Embedding(movie_count, entity_embeddings_dim)\n",
    "        self.movie_tag_embeddings = nn.Linear(text_embeddings_dim, entity_embeddings_dim)\n",
    "        self.rating_tag_embeddings = nn.Linear(text_embeddings_dim, entity_embeddings_dim)\n",
    "        self.movie_integrated = nn.Linear(entity_embeddings_dim * 3, entity_embeddings_dim)\n",
    "        self.integrated = nn.Linear(entity_embeddings_dim * 2, 16)\n",
    "        self.predict_rating = nn.Linear(16, 1)\n",
    "        self.activation = nn.Sigmoid()\n",
    "    \n",
    "    def forward(self, user, movie, tag_embedding, rating_embedding):\n",
    "        user_embedding = self.user_embeddings(user)\n",
    "        movie_embedding = self.movie_embeddings(movie)\n",
    "        movie_tag_embedding = self.activation(self.movie_tag_embeddings(tag_embedding))\n",
    "        rating_tag_embedding = self.activation(self.rating_tag_embeddings(rating_embedding))\n",
    "        movie_embeddings_integrated = torch.cat([movie_embedding, movie_tag_embedding, rating_tag_embedding], dim=1)\n",
    "        movie_integrated_result = self.activation(self.movie_integrated(movie_embeddings_integrated))\n",
    "        embeddings_integrated = torch.cat([user_embedding, movie_integrated_result], dim=1)\n",
    "        integrated_result = self.activation(self.integrated(embeddings_integrated))\n",
    "        return self.predict_rating(integrated_result)"
   ]
  },
  {
   "cell_type": "code",
   "execution_count": 14,
   "metadata": {},
   "outputs": [],
   "source": [
    "# Given uniqued id list, returns two direction mappings\n",
    "def id_map(ids):\n",
    "    id_to_idx = {v: k for k, v in enumerate(ids)}\n",
    "    idx_to_id = {k: v for k, v in enumerate(ids)}\n",
    "    return id_to_idx, idx_to_id"
   ]
  },
  {
   "cell_type": "code",
   "execution_count": 23,
   "metadata": {},
   "outputs": [],
   "source": [
    "# Initializing data\n",
    "user_to_idx, idx_to_user = id_map(loaded_data['User'].unique())\n",
    "movie_to_idx, idx_to_movie = id_map(loaded_data['Movie'].unique())\n",
    "\n",
    "# Split data\n",
    "train_data, test_data = train_test_split(loaded_data, test_size=0.5, random_state=42)\n",
    "\n",
    "# Create Dataset and DataLoader\n",
    "train_dataset = MovieRatingDataset(train_data, user_to_idx, movie_to_idx, tag_embedding_dict, rating_embedding_dict)\n",
    "test_dataset = MovieRatingDataset(test_data, user_to_idx, movie_to_idx, tag_embedding_dict, rating_embedding_dict)\n",
    "train_loader = DataLoader(train_dataset, batch_size=256, shuffle=True, drop_last=True)\n",
    "test_loader = DataLoader(test_dataset, batch_size=256, shuffle=False, drop_last=True)\n",
    "\n",
    "# Create Model\n",
    "model = RatingPredictionModel(len(user_to_idx), len(movie_to_idx), 50, 768).cuda()\n",
    "criterion = nn.MSELoss()\n",
    "optimizer = torch.optim.Adam(model.parameters(), lr=0.02)"
   ]
  },
  {
   "cell_type": "code",
   "execution_count": 24,
   "metadata": {},
   "outputs": [
    {
     "name": "stderr",
     "output_type": "stream",
     "text": [
      "1396it [00:32, 42.98it/s]\n",
      "1396it [00:25, 55.04it/s]\n"
     ]
    },
    {
     "name": "stdout",
     "output_type": "stream",
     "text": [
      "Epoch [1/20], Train Loss: 2.1055, Test Loss: 1.5707, Avg NDCG Score: 0.7343\n"
     ]
    },
    {
     "name": "stderr",
     "output_type": "stream",
     "text": [
      "1396it [00:32, 43.22it/s]\n",
      "1396it [00:26, 53.33it/s]\n"
     ]
    },
    {
     "name": "stdout",
     "output_type": "stream",
     "text": [
      "Epoch [2/20], Train Loss: 1.8101, Test Loss: 1.5093, Avg NDCG Score: 0.7495\n"
     ]
    },
    {
     "name": "stderr",
     "output_type": "stream",
     "text": [
      "1396it [00:31, 43.67it/s]\n",
      "1396it [00:24, 56.98it/s]\n"
     ]
    },
    {
     "name": "stdout",
     "output_type": "stream",
     "text": [
      "Epoch [3/20], Train Loss: 1.7799, Test Loss: 1.4846, Avg NDCG Score: 0.7547\n"
     ]
    },
    {
     "name": "stderr",
     "output_type": "stream",
     "text": [
      "1396it [00:32, 43.11it/s]\n",
      "1396it [00:25, 54.58it/s]\n"
     ]
    },
    {
     "name": "stdout",
     "output_type": "stream",
     "text": [
      "Epoch [4/20], Train Loss: 1.7561, Test Loss: 1.4844, Avg NDCG Score: 0.7615\n"
     ]
    },
    {
     "name": "stderr",
     "output_type": "stream",
     "text": [
      "1396it [00:32, 42.96it/s]\n",
      "1396it [00:24, 55.89it/s]\n"
     ]
    },
    {
     "name": "stdout",
     "output_type": "stream",
     "text": [
      "Epoch [5/20], Train Loss: 1.7420, Test Loss: 1.4587, Avg NDCG Score: 0.7617\n"
     ]
    },
    {
     "name": "stderr",
     "output_type": "stream",
     "text": [
      "1396it [00:31, 44.02it/s]\n",
      "1396it [00:25, 55.60it/s]\n"
     ]
    },
    {
     "name": "stdout",
     "output_type": "stream",
     "text": [
      "Epoch [6/20], Train Loss: 1.7358, Test Loss: 1.4654, Avg NDCG Score: 0.7640\n"
     ]
    },
    {
     "name": "stderr",
     "output_type": "stream",
     "text": [
      "1396it [00:32, 42.50it/s]\n",
      "1396it [00:25, 54.85it/s]\n"
     ]
    },
    {
     "name": "stdout",
     "output_type": "stream",
     "text": [
      "Epoch [7/20], Train Loss: 1.7183, Test Loss: 1.4472, Avg NDCG Score: 0.7692\n"
     ]
    },
    {
     "name": "stderr",
     "output_type": "stream",
     "text": [
      "1396it [00:31, 44.42it/s]\n",
      "1396it [00:24, 56.92it/s]\n"
     ]
    },
    {
     "name": "stdout",
     "output_type": "stream",
     "text": [
      "Epoch [8/20], Train Loss: 1.7163, Test Loss: 1.4565, Avg NDCG Score: 0.7675\n"
     ]
    },
    {
     "name": "stderr",
     "output_type": "stream",
     "text": [
      "1396it [00:32, 42.51it/s]\n",
      "1396it [00:24, 56.70it/s]\n"
     ]
    },
    {
     "name": "stdout",
     "output_type": "stream",
     "text": [
      "Epoch [9/20], Train Loss: 1.7177, Test Loss: 1.4439, Avg NDCG Score: 0.7689\n"
     ]
    },
    {
     "name": "stderr",
     "output_type": "stream",
     "text": [
      "1396it [00:32, 43.60it/s]\n",
      "1396it [00:24, 57.73it/s]\n"
     ]
    },
    {
     "name": "stdout",
     "output_type": "stream",
     "text": [
      "Epoch [10/20], Train Loss: 1.7173, Test Loss: 1.4410, Avg NDCG Score: 0.7692\n"
     ]
    },
    {
     "name": "stderr",
     "output_type": "stream",
     "text": [
      "1396it [00:30, 45.22it/s]\n",
      "1396it [00:25, 54.11it/s]\n"
     ]
    },
    {
     "name": "stdout",
     "output_type": "stream",
     "text": [
      "Epoch [11/20], Train Loss: 1.7140, Test Loss: 1.4407, Avg NDCG Score: 0.7682\n"
     ]
    },
    {
     "name": "stderr",
     "output_type": "stream",
     "text": [
      "1396it [00:31, 43.90it/s]\n",
      "1396it [00:24, 57.58it/s]\n"
     ]
    },
    {
     "name": "stdout",
     "output_type": "stream",
     "text": [
      "Epoch [12/20], Train Loss: 1.7062, Test Loss: 1.4358, Avg NDCG Score: 0.7673\n"
     ]
    },
    {
     "name": "stderr",
     "output_type": "stream",
     "text": [
      "1396it [00:32, 43.60it/s]\n",
      "1396it [00:24, 56.84it/s]\n"
     ]
    },
    {
     "name": "stdout",
     "output_type": "stream",
     "text": [
      "Epoch [13/20], Train Loss: 1.7063, Test Loss: 1.4490, Avg NDCG Score: 0.7667\n"
     ]
    },
    {
     "name": "stderr",
     "output_type": "stream",
     "text": [
      "1396it [00:31, 44.35it/s]\n",
      "1396it [00:25, 55.42it/s]\n"
     ]
    },
    {
     "name": "stdout",
     "output_type": "stream",
     "text": [
      "Epoch [14/20], Train Loss: 1.7067, Test Loss: 1.4854, Avg NDCG Score: 0.7664\n"
     ]
    },
    {
     "name": "stderr",
     "output_type": "stream",
     "text": [
      "1396it [00:31, 44.31it/s]\n",
      "1396it [00:24, 56.81it/s]\n"
     ]
    },
    {
     "name": "stdout",
     "output_type": "stream",
     "text": [
      "Epoch [15/20], Train Loss: 1.7049, Test Loss: 1.4429, Avg NDCG Score: 0.7660\n"
     ]
    },
    {
     "name": "stderr",
     "output_type": "stream",
     "text": [
      "1396it [00:31, 43.65it/s]\n",
      "1396it [00:24, 55.90it/s]\n"
     ]
    },
    {
     "name": "stdout",
     "output_type": "stream",
     "text": [
      "Epoch [16/20], Train Loss: 1.7046, Test Loss: 1.4421, Avg NDCG Score: 0.7689\n"
     ]
    },
    {
     "name": "stderr",
     "output_type": "stream",
     "text": [
      "1396it [00:32, 42.87it/s]\n",
      "1396it [00:24, 56.41it/s]\n"
     ]
    },
    {
     "name": "stdout",
     "output_type": "stream",
     "text": [
      "Epoch [17/20], Train Loss: 1.7038, Test Loss: 1.4414, Avg NDCG Score: 0.7698\n"
     ]
    },
    {
     "name": "stderr",
     "output_type": "stream",
     "text": [
      "1396it [00:30, 45.67it/s]\n",
      "1396it [00:24, 56.75it/s]\n"
     ]
    },
    {
     "name": "stdout",
     "output_type": "stream",
     "text": [
      "Epoch [18/20], Train Loss: 1.6954, Test Loss: 1.4602, Avg NDCG Score: 0.7660\n"
     ]
    },
    {
     "name": "stderr",
     "output_type": "stream",
     "text": [
      "1396it [00:30, 45.18it/s]\n",
      "1396it [00:25, 55.27it/s]\n"
     ]
    },
    {
     "name": "stdout",
     "output_type": "stream",
     "text": [
      "Epoch [19/20], Train Loss: 1.6973, Test Loss: 1.4351, Avg NDCG Score: 0.7708\n"
     ]
    },
    {
     "name": "stderr",
     "output_type": "stream",
     "text": [
      "1396it [00:30, 46.28it/s]\n",
      "1396it [00:24, 56.37it/s]\n"
     ]
    },
    {
     "name": "stdout",
     "output_type": "stream",
     "text": [
      "Epoch [20/20], Train Loss: 1.6976, Test Loss: 1.4452, Avg NDCG Score: 0.7706\n"
     ]
    }
   ],
   "source": [
    "# Training\n",
    "norm_penalty = 0.001\n",
    "total_epoches = 20\n",
    "\n",
    "for epoch in range(total_epoches):\n",
    "    model.train()\n",
    "    train_loss, test_loss = 0., 0.\n",
    "    for batch_id, (user, movie, rating, tag_embedding, rating_embedding) in tqdm(enumerate(train_loader)):\n",
    "        user = user.cuda()\n",
    "        movie = movie.cuda()\n",
    "        rating = rating.cuda()\n",
    "        tag_embedding = tag_embedding.squeeze(1).cuda()\n",
    "        rating_embedding = rating_embedding.squeeze(1).cuda()\n",
    "        optimizer.zero_grad()\n",
    "        pred = model(user, movie, tag_embedding, rating_embedding)\n",
    "        loss = criterion(pred, rating.unsqueeze(1))\n",
    "        l2_loss = norm_penalty * sum(p.pow(2.0).sum().sqrt() for p in model.parameters())\n",
    "        loss += l2_loss\n",
    "    \n",
    "        loss.backward()\n",
    "        optimizer.step()\n",
    "        train_loss += loss.item()\n",
    "    model.eval()\n",
    "    average_train_loss = train_loss / (batch_id + 1)\n",
    "    results = []\n",
    "\n",
    "    with torch.no_grad():\n",
    "        for batch_id, (user, movie, rating, tag_embedding, rating_embedding) in tqdm(enumerate(test_loader)):\n",
    "            user = user.cuda()\n",
    "            movie = movie.cuda()\n",
    "            rating = rating.cuda()\n",
    "            tag_embedding = tag_embedding.squeeze(1).cuda()\n",
    "            rating_embedding = rating_embedding.squeeze(1).cuda()\n",
    "            pred = model(user, movie, tag_embedding, rating_embedding)\n",
    "            loss = criterion(pred, rating.unsqueeze(1))\n",
    "            test_loss += loss.item()\n",
    "\n",
    "            user_ids = user.cpu().unsqueeze(1)\n",
    "            # pred_ratings = pred.cpu().unsqueeze(1)\n",
    "            pred_ratings = pred.cpu()\n",
    "            true_ratings = rating.cpu().unsqueeze(1)\n",
    "            results.append(torch.cat([user_ids, pred_ratings, true_ratings], dim=1))\n",
    "        \n",
    "        results = torch.cat(results).numpy()\n",
    "        results_dataframe = pd.DataFrame(results, columns=['user_id', 'pred_rating', 'true_rating'])\n",
    "        avg_ndcg_scores = []\n",
    "        \n",
    "        for user_id in results_dataframe['user_id'].unique():\n",
    "            user_data = results_dataframe[results_dataframe['user_id'] == user_id]\n",
    "            if len(user_data) > 1:\n",
    "                avg_ndcg_scores.append(torch.tensor(ndcg_score([user_data['true_rating'].values], [user_data['pred_rating'].values], k=50)))\n",
    "    \n",
    "        avg_ndcg_scores = torch.stack(avg_ndcg_scores)\n",
    "        avg_ndcg_score = avg_ndcg_scores.mean()\n",
    "        \n",
    "        average_test_loss = test_loss / (batch_id + 1)\n",
    "    print('Epoch [{}/{}], Train Loss: {:.4f}, Test Loss: {:.4f}, Avg NDCG Score: {:.4f}'.format(epoch+1, total_epoches, average_train_loss, average_test_loss, avg_ndcg_score))\n",
    "    # torch.save(model, 'data/models/sodiumcl10_model_{}.pth'.format(epoch))\n",
    "    # print(\"Model saved to data/models/sodiumcl10_model_{}.pth\".format(epoch))"
   ]
  }
 ],
 "metadata": {
  "kernelspec": {
   "display_name": "base",
   "language": "python",
   "name": "python3"
  },
  "language_info": {
   "codemirror_mode": {
    "name": "ipython",
    "version": 3
   },
   "file_extension": ".py",
   "mimetype": "text/x-python",
   "name": "python",
   "nbconvert_exporter": "python",
   "pygments_lexer": "ipython3",
   "version": "3.11.5"
  }
 },
 "nbformat": 4,
 "nbformat_minor": 2
}
