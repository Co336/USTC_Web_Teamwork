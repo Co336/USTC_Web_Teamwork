{
 "cells": [
  {
   "cell_type": "code",
   "execution_count": null,
   "metadata": {},
   "outputs": [],
   "source": [
    "import torch\n",
    "import pickle\n",
    "import numpy as np\n",
    "import pandas as pd\n",
    "from torch import nn\n",
    "from tqdm import tqdm\n",
    "from torch.utils.data import Dataset\n",
    "from torch.utils.data import DataLoader\n",
    "from sklearn.model_selection import train_test_split\n",
    "from sklearn.metrics import ndcg_score\n",
    "\n",
    "device = torch.device(\"cuda\" if torch.cuda.is_available() else \"cpu\")"
   ]
  },
  {
   "cell_type": "code",
   "execution_count": 2,
   "metadata": {},
   "outputs": [
    {
     "name": "stderr",
     "output_type": "stream",
     "text": [
      "c:\\ProgramData\\anaconda3\\Lib\\site-packages\\transformers\\utils\\generic.py:260: FutureWarning: `torch.utils._pytree._register_pytree_node` is deprecated. Please use `torch.utils._pytree.register_pytree_node` instead.\n",
      "  torch.utils._pytree._register_pytree_node(\n"
     ]
    },
    {
     "data": {
      "application/vnd.jupyter.widget-view+json": {
       "model_id": "9a4aec42aed7416dad35cd62e0a65340",
       "version_major": 2,
       "version_minor": 0
      },
      "text/plain": [
       "Downloading vocab.txt:   0%|          | 0.00/110k [00:00<?, ?B/s]"
      ]
     },
     "metadata": {},
     "output_type": "display_data"
    },
    {
     "name": "stderr",
     "output_type": "stream",
     "text": [
      "c:\\ProgramData\\anaconda3\\Lib\\site-packages\\huggingface_hub\\file_download.py:133: UserWarning: `huggingface_hub` cache-system uses symlinks by default to efficiently store duplicated files but your machine does not support them in C:\\Users\\cyan\\.cache\\huggingface\\hub. Caching files will still work but in a degraded version that might require more space on your disk. This warning can be disabled by setting the `HF_HUB_DISABLE_SYMLINKS_WARNING` environment variable. For more details, see https://huggingface.co/docs/huggingface_hub/how-to-cache#limitations.\n",
      "To support symlinks on Windows, you either need to activate Developer Mode or to run Python as an administrator. In order to see activate developer mode, see this article: https://docs.microsoft.com/en-us/windows/apps/get-started/enable-your-device-for-development\n",
      "  warnings.warn(message)\n"
     ]
    },
    {
     "data": {
      "application/vnd.jupyter.widget-view+json": {
       "model_id": "21471aaa9d8a4323bffdec83102432f8",
       "version_major": 2,
       "version_minor": 0
      },
      "text/plain": [
       "Downloading tokenizer_config.json:   0%|          | 0.00/49.0 [00:00<?, ?B/s]"
      ]
     },
     "metadata": {},
     "output_type": "display_data"
    },
    {
     "data": {
      "application/vnd.jupyter.widget-view+json": {
       "model_id": "d1ce4d06b41645cfa016a6408af411e8",
       "version_major": 2,
       "version_minor": 0
      },
      "text/plain": [
       "Downloading config.json:   0%|          | 0.00/624 [00:00<?, ?B/s]"
      ]
     },
     "metadata": {},
     "output_type": "display_data"
    },
    {
     "data": {
      "application/vnd.jupyter.widget-view+json": {
       "model_id": "32c7937b6d614e63b8f69b4b0df1907b",
       "version_major": 2,
       "version_minor": 0
      },
      "text/plain": [
       "Downloading model.safetensors:   0%|          | 0.00/412M [00:00<?, ?B/s]"
      ]
     },
     "metadata": {},
     "output_type": "display_data"
    }
   ],
   "source": [
    "# Load Bert Model\n",
    "from transformers import BertTokenizer, BertModel\n",
    "import torch\n",
    "\n",
    "tokenizer = BertTokenizer.from_pretrained('bert-base-chinese')\n",
    "model = BertModel.from_pretrained('bert-base-chinese').cuda()"
   ]
  },
  {
   "cell_type": "code",
   "execution_count": 3,
   "metadata": {},
   "outputs": [
    {
     "name": "stderr",
     "output_type": "stream",
     "text": [
      "1200it [00:20, 57.26it/s]\n"
     ]
    }
   ],
   "source": [
    "# Calculate Tag Embeddings\n",
    "loaded_data = pd.read_csv('data\\selected_book_top_1200_data_tag.csv')\n",
    "\n",
    "tag_embedding_dict = {}\n",
    "\n",
    "with torch.no_grad():\n",
    "    for index, rows in tqdm(loaded_data.iterrows()):\n",
    "        # Convert tag list to string\n",
    "        tags_str = \" \".join(rows.Tags)\n",
    "        # Use BERT to get tag embedding\n",
    "        inputs = tokenizer(tags_str, truncation=True, return_tensors='pt')\n",
    "        outputs = model(inputs.input_ids.cuda(), inputs.token_type_ids.cuda(), inputs.attention_mask.cuda())\n",
    "        tag_embedding = outputs.last_hidden_state.mean(dim=1).cpu()\n",
    "        tag_embedding_dict[rows.Book] = tag_embedding"
   ]
  },
  {
   "cell_type": "code",
   "execution_count": 4,
   "metadata": {},
   "outputs": [],
   "source": [
    "# Save embeddings dict\n",
    "with open('data/tag_embedding_dict.pkl', 'wb') as f:\n",
    "    pickle.dump(tag_embedding_dict, f)"
   ]
  },
  {
   "cell_type": "code",
   "execution_count": 5,
   "metadata": {},
   "outputs": [],
   "source": [
    "# Load embeddings dict\n",
    "with open('data/tag_embedding_dict.pkl', 'rb') as f:\n",
    "    tag_embedding_dict = pickle.load(f)"
   ]
  },
  {
   "cell_type": "code",
   "execution_count": 18,
   "metadata": {},
   "outputs": [
    {
     "name": "stderr",
     "output_type": "stream",
     "text": [
      "637254it [12:10, 872.19it/s] \n"
     ]
    }
   ],
   "source": [
    "# Calculate Score Tag Embeddings\n",
    "loaded_data = pd.read_csv('data\\\\book_score.csv')\n",
    "\n",
    "rating_embedding_dict = {}\n",
    "string_to_embedding_dict = {}\n",
    "\n",
    "with torch.no_grad():\n",
    "    for index, rows in tqdm(loaded_data.iterrows()):\n",
    "        # Convert tag list to string\n",
    "        tags_str = '' if rows.Tag != rows.Tag else rows.Tag\n",
    "        if tags_str in string_to_embedding_dict:\n",
    "            tag_embedding = string_to_embedding_dict[tags_str]\n",
    "        else:\n",
    "            # Use BERT to get tag embedding\n",
    "            inputs = tokenizer(tags_str, truncation=True, return_tensors='pt')\n",
    "            outputs = model(inputs.input_ids.cuda(), inputs.token_type_ids.cuda(), inputs.attention_mask.cuda())\n",
    "            tag_embedding = outputs.last_hidden_state.mean(dim=1).cpu()\n",
    "            string_to_embedding_dict[tags_str] = tag_embedding\n",
    "        rating_embedding_dict[(rows.User, rows.Book)] = tag_embedding"
   ]
  },
  {
   "cell_type": "code",
   "execution_count": 19,
   "metadata": {},
   "outputs": [],
   "source": [
    "# Save rating embeddings dict\n",
    "with open('data/rating_embedding_dict.pkl', 'wb') as f:\n",
    "    pickle.dump(rating_embedding_dict, f)"
   ]
  },
  {
   "cell_type": "code",
   "execution_count": 20,
   "metadata": {},
   "outputs": [],
   "source": [
    "# Load rating embeddings dict\n",
    "with open('data/rating_embedding_dict.pkl', 'rb') as f:\n",
    "    rating_embedding_dict = pickle.load(f)"
   ]
  },
  {
   "cell_type": "code",
   "execution_count": 21,
   "metadata": {},
   "outputs": [],
   "source": [
    "# Create Dataset Class\n",
    "class BookRatingDataset(Dataset):\n",
    "    def __init__(self, data, user_idx, book_idx, tag_embedding_dict, rating_embedding_dict):\n",
    "        self.data = data\n",
    "        self.user_idx = user_idx\n",
    "        self.book_idx = book_idx\n",
    "        self.tag_embedding_dict = tag_embedding_dict\n",
    "        self.rating_embedding_dict = rating_embedding_dict\n",
    "\n",
    "    def __getitem__(self, index):\n",
    "        row = self.data.iloc[index]\n",
    "        user = self.user_idx[row['User']]\n",
    "        book = self.book_idx[row['Book']]\n",
    "        rating = row['Rate'].astype('float32')\n",
    "        tag_embedding = self.tag_embedding_dict[row['Book']]\n",
    "        rating_embedding = self.rating_embedding_dict[(row['User'], row['Book'])]\n",
    "        return user, book, rating, tag_embedding, rating_embedding\n",
    "\n",
    "    def __len__(self):\n",
    "        return len(self.data)"
   ]
  },
  {
   "cell_type": "code",
   "execution_count": 98,
   "metadata": {},
   "outputs": [],
   "source": [
    "# Create Model\n",
    "class RatingPredictionModel(nn.Module):\n",
    "    def __init__(self, user_count, book_count, entity_embeddings_dim, text_embeddings_dim):\n",
    "        super(RatingPredictionModel, self).__init__()\n",
    "        self.user_embeddings = nn.Embedding(user_count, entity_embeddings_dim)\n",
    "        self.book_embeddings = nn.Embedding(book_count, entity_embeddings_dim)\n",
    "        self.book_tag_embeddings = nn.Linear(text_embeddings_dim, entity_embeddings_dim)\n",
    "        self.rating_tag_embeddings = nn.Linear(text_embeddings_dim, entity_embeddings_dim)\n",
    "        self.book_integrated = nn.Linear(entity_embeddings_dim * 3, entity_embeddings_dim)\n",
    "        self.integrated = nn.Linear(entity_embeddings_dim * 2, 16)\n",
    "        self.predict_rating = nn.Linear(16, 1)\n",
    "        self.activation = nn.Sigmoid()\n",
    "    \n",
    "    def forward(self, user, book, tag_embedding, rating_embedding):\n",
    "        user_embedding = self.user_embeddings(user)\n",
    "        book_embedding = self.book_embeddings(book)\n",
    "        book_tag_embedding = self.activation(self.book_tag_embeddings(tag_embedding))\n",
    "        rating_tag_embedding = self.activation(self.rating_tag_embeddings(rating_embedding))\n",
    "        book_embeddings_integrated = torch.cat([book_embedding, book_tag_embedding, rating_tag_embedding], dim=1)\n",
    "        book_integrated_result = self.activation(self.book_integrated(book_embeddings_integrated))\n",
    "        embeddings_integrated = torch.cat([user_embedding, book_integrated_result], dim=1)\n",
    "        integrated_result = self.activation(self.integrated(embeddings_integrated))\n",
    "        return self.predict_rating(integrated_result)"
   ]
  },
  {
   "cell_type": "code",
   "execution_count": 99,
   "metadata": {},
   "outputs": [],
   "source": [
    "# Given uniqued id list, returns two direction mappings\n",
    "def id_map(ids):\n",
    "    id_to_idx = {v: k for k, v in enumerate(ids)}\n",
    "    idx_to_id = {k: v for k, v in enumerate(ids)}\n",
    "    return id_to_idx, idx_to_id"
   ]
  },
  {
   "cell_type": "code",
   "execution_count": 100,
   "metadata": {},
   "outputs": [],
   "source": [
    "# Initializing data\n",
    "user_to_idx, idx_to_user = id_map(loaded_data['User'].unique())\n",
    "book_to_idx, idx_to_book = id_map(loaded_data['Book'].unique())\n",
    "\n",
    "# Split data\n",
    "train_data, test_data = train_test_split(loaded_data, test_size=0.5, random_state=42)\n",
    "\n",
    "# Create Dataset and DataLoader\n",
    "train_dataset = BookRatingDataset(train_data, user_to_idx, book_to_idx, tag_embedding_dict, rating_embedding_dict)\n",
    "test_dataset = BookRatingDataset(test_data, user_to_idx, book_to_idx, tag_embedding_dict, rating_embedding_dict)\n",
    "train_loader = DataLoader(train_dataset, batch_size=256, shuffle=True, drop_last=True)\n",
    "test_loader = DataLoader(test_dataset, batch_size=256, shuffle=False, drop_last=True)\n",
    "\n",
    "# Create Model\n",
    "model = RatingPredictionModel(len(user_to_idx), len(book_to_idx), 64, 768).cuda()\n",
    "criterion = nn.MSELoss()\n",
    "optimizer = torch.optim.Adam(model.parameters(), lr=0.02)"
   ]
  },
  {
   "cell_type": "code",
   "execution_count": 101,
   "metadata": {},
   "outputs": [
    {
     "name": "stderr",
     "output_type": "stream",
     "text": [
      "1244it [00:28, 43.90it/s]\n",
      "1244it [00:24, 51.60it/s]\n"
     ]
    },
    {
     "name": "stdout",
     "output_type": "stream",
     "text": [
      "Epoch [1/100], Train Loss: 3.4436, Test Loss: 2.1555, Avg NDCG Score: 0.7318\n",
      "Model saved to data/models/sodiumcl10_model_0.pth\n"
     ]
    },
    {
     "name": "stderr",
     "output_type": "stream",
     "text": [
      "1244it [00:29, 41.99it/s]\n",
      "1244it [00:24, 51.38it/s]\n"
     ]
    },
    {
     "name": "stdout",
     "output_type": "stream",
     "text": [
      "Epoch [2/100], Train Loss: 2.5055, Test Loss: 2.1105, Avg NDCG Score: 0.7434\n",
      "Model saved to data/models/sodiumcl10_model_1.pth\n"
     ]
    },
    {
     "name": "stderr",
     "output_type": "stream",
     "text": [
      "1244it [00:30, 41.07it/s]\n",
      "1244it [00:23, 53.12it/s]\n"
     ]
    },
    {
     "name": "stdout",
     "output_type": "stream",
     "text": [
      "Epoch [3/100], Train Loss: 2.4463, Test Loss: 2.0851, Avg NDCG Score: 0.7441\n",
      "Model saved to data/models/sodiumcl10_model_2.pth\n"
     ]
    },
    {
     "name": "stderr",
     "output_type": "stream",
     "text": [
      "1244it [00:28, 43.47it/s]\n",
      "1244it [00:23, 54.01it/s]\n"
     ]
    },
    {
     "name": "stdout",
     "output_type": "stream",
     "text": [
      "Epoch [4/100], Train Loss: 2.4245, Test Loss: 2.0590, Avg NDCG Score: 0.7479\n",
      "Model saved to data/models/sodiumcl10_model_3.pth\n"
     ]
    },
    {
     "name": "stderr",
     "output_type": "stream",
     "text": [
      "1244it [00:28, 43.06it/s]\n",
      "1244it [00:23, 53.87it/s]\n"
     ]
    },
    {
     "name": "stdout",
     "output_type": "stream",
     "text": [
      "Epoch [5/100], Train Loss: 2.3969, Test Loss: 2.0297, Avg NDCG Score: 0.7534\n",
      "Model saved to data/models/sodiumcl10_model_4.pth\n"
     ]
    },
    {
     "name": "stderr",
     "output_type": "stream",
     "text": [
      "1244it [00:29, 42.68it/s]\n",
      "1244it [00:23, 53.74it/s]\n"
     ]
    },
    {
     "name": "stdout",
     "output_type": "stream",
     "text": [
      "Epoch [6/100], Train Loss: 2.3714, Test Loss: 2.0238, Avg NDCG Score: 0.7562\n",
      "Model saved to data/models/sodiumcl10_model_5.pth\n"
     ]
    },
    {
     "name": "stderr",
     "output_type": "stream",
     "text": [
      "1244it [00:28, 43.61it/s]\n",
      "1244it [00:22, 56.49it/s]\n"
     ]
    },
    {
     "name": "stdout",
     "output_type": "stream",
     "text": [
      "Epoch [7/100], Train Loss: 2.3575, Test Loss: 2.0106, Avg NDCG Score: 0.7596\n",
      "Model saved to data/models/sodiumcl10_model_6.pth\n"
     ]
    },
    {
     "name": "stderr",
     "output_type": "stream",
     "text": [
      "1244it [00:29, 42.57it/s]\n",
      "1244it [00:22, 56.39it/s]\n"
     ]
    },
    {
     "name": "stdout",
     "output_type": "stream",
     "text": [
      "Epoch [8/100], Train Loss: 2.3453, Test Loss: 2.0224, Avg NDCG Score: 0.7598\n",
      "Model saved to data/models/sodiumcl10_model_7.pth\n"
     ]
    },
    {
     "name": "stderr",
     "output_type": "stream",
     "text": [
      "1244it [00:29, 42.74it/s]\n",
      "1244it [00:22, 54.51it/s]\n"
     ]
    },
    {
     "name": "stdout",
     "output_type": "stream",
     "text": [
      "Epoch [9/100], Train Loss: 2.3432, Test Loss: 1.9974, Avg NDCG Score: 0.7609\n",
      "Model saved to data/models/sodiumcl10_model_8.pth\n"
     ]
    },
    {
     "name": "stderr",
     "output_type": "stream",
     "text": [
      "1244it [00:29, 41.80it/s]\n",
      "1244it [00:23, 53.46it/s]\n"
     ]
    },
    {
     "name": "stdout",
     "output_type": "stream",
     "text": [
      "Epoch [10/100], Train Loss: 2.3457, Test Loss: 1.9900, Avg NDCG Score: 0.7613\n",
      "Model saved to data/models/sodiumcl10_model_9.pth\n"
     ]
    },
    {
     "name": "stderr",
     "output_type": "stream",
     "text": [
      "1244it [00:29, 42.57it/s]\n",
      "1244it [00:23, 53.57it/s]\n"
     ]
    },
    {
     "name": "stdout",
     "output_type": "stream",
     "text": [
      "Epoch [11/100], Train Loss: 2.3404, Test Loss: 1.9950, Avg NDCG Score: 0.7584\n",
      "Model saved to data/models/sodiumcl10_model_10.pth\n"
     ]
    },
    {
     "name": "stderr",
     "output_type": "stream",
     "text": [
      "1244it [00:28, 43.90it/s]\n",
      "1244it [00:23, 53.83it/s]\n"
     ]
    },
    {
     "name": "stdout",
     "output_type": "stream",
     "text": [
      "Epoch [12/100], Train Loss: 2.3480, Test Loss: 1.9941, Avg NDCG Score: 0.7606\n",
      "Model saved to data/models/sodiumcl10_model_11.pth\n"
     ]
    },
    {
     "name": "stderr",
     "output_type": "stream",
     "text": [
      "1244it [00:28, 43.11it/s]\n",
      "1244it [00:22, 56.14it/s]\n"
     ]
    },
    {
     "name": "stdout",
     "output_type": "stream",
     "text": [
      "Epoch [13/100], Train Loss: 2.3321, Test Loss: 1.9875, Avg NDCG Score: 0.7614\n",
      "Model saved to data/models/sodiumcl10_model_12.pth\n"
     ]
    },
    {
     "name": "stderr",
     "output_type": "stream",
     "text": [
      "1244it [00:28, 43.47it/s]\n",
      "1244it [00:23, 53.48it/s]\n"
     ]
    },
    {
     "name": "stdout",
     "output_type": "stream",
     "text": [
      "Epoch [14/100], Train Loss: 2.3415, Test Loss: 1.9849, Avg NDCG Score: 0.7626\n",
      "Model saved to data/models/sodiumcl10_model_13.pth\n"
     ]
    },
    {
     "name": "stderr",
     "output_type": "stream",
     "text": [
      "1244it [00:28, 43.36it/s]\n",
      "1244it [00:22, 54.39it/s]\n"
     ]
    },
    {
     "name": "stdout",
     "output_type": "stream",
     "text": [
      "Epoch [15/100], Train Loss: 2.3256, Test Loss: 1.9829, Avg NDCG Score: 0.7617\n",
      "Model saved to data/models/sodiumcl10_model_14.pth\n"
     ]
    },
    {
     "name": "stderr",
     "output_type": "stream",
     "text": [
      "1244it [00:28, 43.29it/s]\n",
      "1244it [00:22, 56.17it/s]\n"
     ]
    },
    {
     "name": "stdout",
     "output_type": "stream",
     "text": [
      "Epoch [16/100], Train Loss: 2.3461, Test Loss: 2.0034, Avg NDCG Score: 0.7608\n",
      "Model saved to data/models/sodiumcl10_model_15.pth\n"
     ]
    },
    {
     "name": "stderr",
     "output_type": "stream",
     "text": [
      "1244it [00:28, 44.35it/s]\n",
      "1244it [00:22, 56.20it/s]\n"
     ]
    },
    {
     "name": "stdout",
     "output_type": "stream",
     "text": [
      "Epoch [17/100], Train Loss: 2.3428, Test Loss: 1.9849, Avg NDCG Score: 0.7615\n",
      "Model saved to data/models/sodiumcl10_model_16.pth\n"
     ]
    },
    {
     "name": "stderr",
     "output_type": "stream",
     "text": [
      "1244it [00:29, 42.89it/s]\n",
      "1244it [00:22, 55.53it/s]\n"
     ]
    },
    {
     "name": "stdout",
     "output_type": "stream",
     "text": [
      "Epoch [18/100], Train Loss: 2.3401, Test Loss: 1.9942, Avg NDCG Score: 0.7627\n",
      "Model saved to data/models/sodiumcl10_model_17.pth\n"
     ]
    },
    {
     "name": "stderr",
     "output_type": "stream",
     "text": [
      "1244it [00:27, 45.26it/s]\n",
      "1244it [00:22, 55.76it/s]\n"
     ]
    },
    {
     "name": "stdout",
     "output_type": "stream",
     "text": [
      "Epoch [19/100], Train Loss: 2.3558, Test Loss: 1.9962, Avg NDCG Score: 0.7612\n",
      "Model saved to data/models/sodiumcl10_model_18.pth\n"
     ]
    },
    {
     "name": "stderr",
     "output_type": "stream",
     "text": [
      "1244it [00:29, 42.78it/s]\n",
      "1244it [00:22, 56.08it/s]\n"
     ]
    },
    {
     "name": "stdout",
     "output_type": "stream",
     "text": [
      "Epoch [20/100], Train Loss: 2.3413, Test Loss: 1.9942, Avg NDCG Score: 0.7612\n",
      "Model saved to data/models/sodiumcl10_model_19.pth\n"
     ]
    },
    {
     "name": "stderr",
     "output_type": "stream",
     "text": [
      "1244it [00:28, 44.12it/s]\n",
      "1244it [00:23, 54.02it/s]\n"
     ]
    },
    {
     "name": "stdout",
     "output_type": "stream",
     "text": [
      "Epoch [21/100], Train Loss: 2.3375, Test Loss: 1.9909, Avg NDCG Score: 0.7614\n",
      "Model saved to data/models/sodiumcl10_model_20.pth\n"
     ]
    },
    {
     "name": "stderr",
     "output_type": "stream",
     "text": [
      "1244it [00:28, 43.26it/s]\n",
      "1244it [00:22, 54.44it/s]\n"
     ]
    },
    {
     "name": "stdout",
     "output_type": "stream",
     "text": [
      "Epoch [22/100], Train Loss: 2.3388, Test Loss: 1.9847, Avg NDCG Score: 0.7624\n",
      "Model saved to data/models/sodiumcl10_model_21.pth\n"
     ]
    },
    {
     "name": "stderr",
     "output_type": "stream",
     "text": [
      "1244it [00:27, 44.43it/s]\n",
      "1244it [00:22, 54.25it/s]\n"
     ]
    },
    {
     "name": "stdout",
     "output_type": "stream",
     "text": [
      "Epoch [23/100], Train Loss: 2.3460, Test Loss: 1.9954, Avg NDCG Score: 0.7601\n",
      "Model saved to data/models/sodiumcl10_model_22.pth\n"
     ]
    },
    {
     "name": "stderr",
     "output_type": "stream",
     "text": [
      "1244it [00:28, 43.23it/s]\n",
      "1244it [00:22, 55.99it/s]\n"
     ]
    },
    {
     "name": "stdout",
     "output_type": "stream",
     "text": [
      "Epoch [24/100], Train Loss: 2.3459, Test Loss: 1.9908, Avg NDCG Score: 0.7632\n",
      "Model saved to data/models/sodiumcl10_model_23.pth\n"
     ]
    },
    {
     "name": "stderr",
     "output_type": "stream",
     "text": [
      "1244it [00:28, 44.18it/s]\n",
      "1244it [00:22, 55.60it/s]\n"
     ]
    },
    {
     "name": "stdout",
     "output_type": "stream",
     "text": [
      "Epoch [25/100], Train Loss: 2.3392, Test Loss: 1.9865, Avg NDCG Score: 0.7623\n",
      "Model saved to data/models/sodiumcl10_model_24.pth\n"
     ]
    },
    {
     "name": "stderr",
     "output_type": "stream",
     "text": [
      "1244it [00:28, 43.03it/s]\n",
      "1244it [00:23, 53.86it/s]\n"
     ]
    },
    {
     "name": "stdout",
     "output_type": "stream",
     "text": [
      "Epoch [26/100], Train Loss: 2.3455, Test Loss: 1.9899, Avg NDCG Score: 0.7599\n",
      "Model saved to data/models/sodiumcl10_model_25.pth\n"
     ]
    },
    {
     "name": "stderr",
     "output_type": "stream",
     "text": [
      "1244it [00:28, 43.21it/s]\n",
      "1244it [00:22, 55.87it/s]\n"
     ]
    },
    {
     "name": "stdout",
     "output_type": "stream",
     "text": [
      "Epoch [27/100], Train Loss: 2.3432, Test Loss: 2.0039, Avg NDCG Score: 0.7608\n",
      "Model saved to data/models/sodiumcl10_model_26.pth\n"
     ]
    },
    {
     "name": "stderr",
     "output_type": "stream",
     "text": [
      "1244it [00:29, 42.84it/s]\n",
      "1244it [00:23, 53.55it/s]\n"
     ]
    },
    {
     "name": "stdout",
     "output_type": "stream",
     "text": [
      "Epoch [28/100], Train Loss: 2.3420, Test Loss: 1.9913, Avg NDCG Score: 0.7607\n",
      "Model saved to data/models/sodiumcl10_model_27.pth\n"
     ]
    },
    {
     "name": "stderr",
     "output_type": "stream",
     "text": [
      "1244it [00:29, 42.87it/s]\n",
      "1244it [00:23, 53.62it/s]\n"
     ]
    },
    {
     "name": "stdout",
     "output_type": "stream",
     "text": [
      "Epoch [29/100], Train Loss: 2.3498, Test Loss: 1.9960, Avg NDCG Score: 0.7625\n",
      "Model saved to data/models/sodiumcl10_model_28.pth\n"
     ]
    },
    {
     "name": "stderr",
     "output_type": "stream",
     "text": [
      "1244it [00:28, 43.28it/s]\n",
      "1244it [00:23, 54.01it/s]\n"
     ]
    },
    {
     "name": "stdout",
     "output_type": "stream",
     "text": [
      "Epoch [30/100], Train Loss: 2.3386, Test Loss: 1.9754, Avg NDCG Score: 0.7626\n",
      "Model saved to data/models/sodiumcl10_model_29.pth\n"
     ]
    },
    {
     "name": "stderr",
     "output_type": "stream",
     "text": [
      "1244it [00:29, 42.85it/s]\n",
      "1244it [00:22, 54.18it/s]\n"
     ]
    },
    {
     "name": "stdout",
     "output_type": "stream",
     "text": [
      "Epoch [31/100], Train Loss: 2.3422, Test Loss: 1.9971, Avg NDCG Score: 0.7626\n",
      "Model saved to data/models/sodiumcl10_model_30.pth\n"
     ]
    },
    {
     "name": "stderr",
     "output_type": "stream",
     "text": [
      "1244it [00:28, 43.97it/s]\n",
      "1244it [00:23, 53.86it/s]\n"
     ]
    },
    {
     "name": "stdout",
     "output_type": "stream",
     "text": [
      "Epoch [32/100], Train Loss: 2.3346, Test Loss: 1.9989, Avg NDCG Score: 0.7627\n",
      "Model saved to data/models/sodiumcl10_model_31.pth\n"
     ]
    },
    {
     "name": "stderr",
     "output_type": "stream",
     "text": [
      "1244it [00:28, 43.77it/s]\n",
      "1244it [00:23, 53.82it/s]\n"
     ]
    },
    {
     "name": "stdout",
     "output_type": "stream",
     "text": [
      "Epoch [33/100], Train Loss: 2.3479, Test Loss: 1.9794, Avg NDCG Score: 0.7622\n",
      "Model saved to data/models/sodiumcl10_model_32.pth\n"
     ]
    },
    {
     "name": "stderr",
     "output_type": "stream",
     "text": [
      "1244it [00:28, 43.21it/s]\n",
      "1244it [00:23, 54.01it/s]\n"
     ]
    },
    {
     "name": "stdout",
     "output_type": "stream",
     "text": [
      "Epoch [34/100], Train Loss: 2.3427, Test Loss: 1.9823, Avg NDCG Score: 0.7645\n",
      "Model saved to data/models/sodiumcl10_model_33.pth\n"
     ]
    },
    {
     "name": "stderr",
     "output_type": "stream",
     "text": [
      "1244it [00:28, 43.23it/s]\n",
      "1244it [00:22, 55.73it/s]\n"
     ]
    },
    {
     "name": "stdout",
     "output_type": "stream",
     "text": [
      "Epoch [35/100], Train Loss: 2.3469, Test Loss: 1.9964, Avg NDCG Score: 0.7588\n",
      "Model saved to data/models/sodiumcl10_model_34.pth\n"
     ]
    },
    {
     "name": "stderr",
     "output_type": "stream",
     "text": [
      "1244it [00:28, 42.93it/s]\n",
      "1244it [00:23, 53.64it/s]\n"
     ]
    },
    {
     "name": "stdout",
     "output_type": "stream",
     "text": [
      "Epoch [36/100], Train Loss: 2.3414, Test Loss: 1.9861, Avg NDCG Score: 0.7627\n",
      "Model saved to data/models/sodiumcl10_model_35.pth\n"
     ]
    },
    {
     "name": "stderr",
     "output_type": "stream",
     "text": [
      "1244it [00:29, 42.83it/s]\n",
      "1244it [00:23, 53.75it/s]\n"
     ]
    },
    {
     "name": "stdout",
     "output_type": "stream",
     "text": [
      "Epoch [37/100], Train Loss: 2.3480, Test Loss: 1.9903, Avg NDCG Score: 0.7605\n",
      "Model saved to data/models/sodiumcl10_model_36.pth\n"
     ]
    },
    {
     "name": "stderr",
     "output_type": "stream",
     "text": [
      "1244it [00:28, 43.12it/s]\n",
      "1244it [00:22, 54.21it/s]\n"
     ]
    },
    {
     "name": "stdout",
     "output_type": "stream",
     "text": [
      "Epoch [38/100], Train Loss: 2.3433, Test Loss: 1.9798, Avg NDCG Score: 0.7640\n",
      "Model saved to data/models/sodiumcl10_model_37.pth\n"
     ]
    },
    {
     "name": "stderr",
     "output_type": "stream",
     "text": [
      "1244it [00:28, 43.17it/s]\n",
      "1244it [00:21, 57.11it/s]\n"
     ]
    },
    {
     "name": "stdout",
     "output_type": "stream",
     "text": [
      "Epoch [39/100], Train Loss: 2.3368, Test Loss: 1.9951, Avg NDCG Score: 0.7617\n",
      "Model saved to data/models/sodiumcl10_model_38.pth\n"
     ]
    },
    {
     "name": "stderr",
     "output_type": "stream",
     "text": [
      "1244it [00:28, 43.19it/s]\n",
      "1244it [00:22, 54.24it/s]\n"
     ]
    },
    {
     "name": "stdout",
     "output_type": "stream",
     "text": [
      "Epoch [40/100], Train Loss: 2.3432, Test Loss: 1.9781, Avg NDCG Score: 0.7617\n",
      "Model saved to data/models/sodiumcl10_model_39.pth\n"
     ]
    },
    {
     "name": "stderr",
     "output_type": "stream",
     "text": [
      "1244it [00:28, 43.16it/s]\n",
      "1244it [00:22, 54.33it/s]\n"
     ]
    },
    {
     "name": "stdout",
     "output_type": "stream",
     "text": [
      "Epoch [41/100], Train Loss: 2.3424, Test Loss: 1.9902, Avg NDCG Score: 0.7600\n",
      "Model saved to data/models/sodiumcl10_model_40.pth\n"
     ]
    },
    {
     "name": "stderr",
     "output_type": "stream",
     "text": [
      "1244it [00:28, 42.93it/s]\n",
      "1244it [00:23, 54.04it/s]\n"
     ]
    },
    {
     "name": "stdout",
     "output_type": "stream",
     "text": [
      "Epoch [42/100], Train Loss: 2.3448, Test Loss: 1.9916, Avg NDCG Score: 0.7617\n",
      "Model saved to data/models/sodiumcl10_model_41.pth\n"
     ]
    },
    {
     "name": "stderr",
     "output_type": "stream",
     "text": [
      "1244it [00:28, 43.84it/s]\n",
      "1244it [00:22, 55.67it/s]\n"
     ]
    },
    {
     "name": "stdout",
     "output_type": "stream",
     "text": [
      "Epoch [43/100], Train Loss: 2.3465, Test Loss: 1.9827, Avg NDCG Score: 0.7611\n",
      "Model saved to data/models/sodiumcl10_model_42.pth\n"
     ]
    },
    {
     "name": "stderr",
     "output_type": "stream",
     "text": [
      "1244it [00:29, 42.84it/s]\n",
      "1244it [00:22, 55.33it/s]\n"
     ]
    },
    {
     "name": "stdout",
     "output_type": "stream",
     "text": [
      "Epoch [44/100], Train Loss: 2.3418, Test Loss: 1.9896, Avg NDCG Score: 0.7601\n",
      "Model saved to data/models/sodiumcl10_model_43.pth\n"
     ]
    },
    {
     "name": "stderr",
     "output_type": "stream",
     "text": [
      "1244it [00:28, 43.31it/s]\n",
      "1244it [00:23, 53.98it/s]\n"
     ]
    },
    {
     "name": "stdout",
     "output_type": "stream",
     "text": [
      "Epoch [45/100], Train Loss: 2.3496, Test Loss: 2.0014, Avg NDCG Score: 0.7610\n",
      "Model saved to data/models/sodiumcl10_model_44.pth\n"
     ]
    },
    {
     "name": "stderr",
     "output_type": "stream",
     "text": [
      "1244it [00:29, 42.83it/s]\n",
      "1244it [00:23, 53.85it/s]\n"
     ]
    },
    {
     "name": "stdout",
     "output_type": "stream",
     "text": [
      "Epoch [46/100], Train Loss: 2.3510, Test Loss: 1.9863, Avg NDCG Score: 0.7638\n",
      "Model saved to data/models/sodiumcl10_model_45.pth\n"
     ]
    },
    {
     "name": "stderr",
     "output_type": "stream",
     "text": [
      "1244it [00:29, 42.75it/s]\n",
      "1244it [00:23, 53.63it/s]\n"
     ]
    },
    {
     "name": "stdout",
     "output_type": "stream",
     "text": [
      "Epoch [47/100], Train Loss: 2.3415, Test Loss: 1.9842, Avg NDCG Score: 0.7637\n",
      "Model saved to data/models/sodiumcl10_model_46.pth\n"
     ]
    },
    {
     "name": "stderr",
     "output_type": "stream",
     "text": [
      "1244it [00:28, 43.26it/s]\n",
      "1244it [00:21, 58.14it/s]\n"
     ]
    },
    {
     "name": "stdout",
     "output_type": "stream",
     "text": [
      "Epoch [48/100], Train Loss: 2.3462, Test Loss: 1.9947, Avg NDCG Score: 0.7618\n",
      "Model saved to data/models/sodiumcl10_model_47.pth\n"
     ]
    },
    {
     "name": "stderr",
     "output_type": "stream",
     "text": [
      "1244it [00:28, 44.24it/s]\n",
      "1244it [00:22, 56.49it/s]\n"
     ]
    },
    {
     "name": "stdout",
     "output_type": "stream",
     "text": [
      "Epoch [49/100], Train Loss: 2.3436, Test Loss: 1.9834, Avg NDCG Score: 0.7603\n",
      "Model saved to data/models/sodiumcl10_model_48.pth\n"
     ]
    },
    {
     "name": "stderr",
     "output_type": "stream",
     "text": [
      "1244it [00:28, 43.91it/s]\n",
      "1244it [00:23, 53.99it/s]\n"
     ]
    },
    {
     "name": "stdout",
     "output_type": "stream",
     "text": [
      "Epoch [50/100], Train Loss: 2.3390, Test Loss: 1.9834, Avg NDCG Score: 0.7644\n",
      "Model saved to data/models/sodiumcl10_model_49.pth\n"
     ]
    },
    {
     "name": "stderr",
     "output_type": "stream",
     "text": [
      "1244it [00:28, 43.90it/s]\n",
      "1244it [00:22, 54.28it/s]\n"
     ]
    },
    {
     "name": "stdout",
     "output_type": "stream",
     "text": [
      "Epoch [51/100], Train Loss: 2.3520, Test Loss: 1.9881, Avg NDCG Score: 0.7622\n",
      "Model saved to data/models/sodiumcl10_model_50.pth\n"
     ]
    },
    {
     "name": "stderr",
     "output_type": "stream",
     "text": [
      "1244it [00:28, 43.33it/s]\n",
      "1244it [00:22, 55.81it/s]\n"
     ]
    },
    {
     "name": "stdout",
     "output_type": "stream",
     "text": [
      "Epoch [52/100], Train Loss: 2.3483, Test Loss: 1.9831, Avg NDCG Score: 0.7633\n",
      "Model saved to data/models/sodiumcl10_model_51.pth\n"
     ]
    },
    {
     "name": "stderr",
     "output_type": "stream",
     "text": [
      "1244it [00:29, 42.73it/s]\n",
      "1244it [00:21, 57.65it/s]\n"
     ]
    },
    {
     "name": "stdout",
     "output_type": "stream",
     "text": [
      "Epoch [53/100], Train Loss: 2.3326, Test Loss: 1.9848, Avg NDCG Score: 0.7605\n",
      "Model saved to data/models/sodiumcl10_model_52.pth\n"
     ]
    },
    {
     "name": "stderr",
     "output_type": "stream",
     "text": [
      "1244it [00:28, 43.25it/s]\n",
      "1244it [00:22, 54.54it/s]\n"
     ]
    },
    {
     "name": "stdout",
     "output_type": "stream",
     "text": [
      "Epoch [54/100], Train Loss: 2.3434, Test Loss: 1.9897, Avg NDCG Score: 0.7614\n",
      "Model saved to data/models/sodiumcl10_model_53.pth\n"
     ]
    },
    {
     "name": "stderr",
     "output_type": "stream",
     "text": [
      "1244it [00:28, 42.96it/s]\n",
      "1244it [00:23, 53.98it/s]\n"
     ]
    },
    {
     "name": "stdout",
     "output_type": "stream",
     "text": [
      "Epoch [55/100], Train Loss: 2.3468, Test Loss: 1.9941, Avg NDCG Score: 0.7620\n",
      "Model saved to data/models/sodiumcl10_model_54.pth\n"
     ]
    },
    {
     "name": "stderr",
     "output_type": "stream",
     "text": [
      "1244it [00:28, 42.97it/s]\n",
      "1244it [00:22, 55.73it/s]\n"
     ]
    },
    {
     "name": "stdout",
     "output_type": "stream",
     "text": [
      "Epoch [56/100], Train Loss: 2.3450, Test Loss: 1.9848, Avg NDCG Score: 0.7619\n",
      "Model saved to data/models/sodiumcl10_model_55.pth\n"
     ]
    },
    {
     "name": "stderr",
     "output_type": "stream",
     "text": [
      "1244it [00:28, 43.73it/s]\n",
      "1244it [00:23, 53.72it/s]\n"
     ]
    },
    {
     "name": "stdout",
     "output_type": "stream",
     "text": [
      "Epoch [57/100], Train Loss: 2.3511, Test Loss: 1.9794, Avg NDCG Score: 0.7620\n",
      "Model saved to data/models/sodiumcl10_model_56.pth\n"
     ]
    },
    {
     "name": "stderr",
     "output_type": "stream",
     "text": [
      "1244it [00:29, 42.49it/s]\n",
      "1244it [00:22, 55.69it/s]\n"
     ]
    },
    {
     "name": "stdout",
     "output_type": "stream",
     "text": [
      "Epoch [58/100], Train Loss: 2.3421, Test Loss: 1.9833, Avg NDCG Score: 0.7628\n",
      "Model saved to data/models/sodiumcl10_model_57.pth\n"
     ]
    },
    {
     "name": "stderr",
     "output_type": "stream",
     "text": [
      "1244it [00:29, 42.83it/s]\n",
      "1244it [00:23, 53.88it/s]\n"
     ]
    },
    {
     "name": "stdout",
     "output_type": "stream",
     "text": [
      "Epoch [59/100], Train Loss: 2.3495, Test Loss: 1.9775, Avg NDCG Score: 0.7630\n",
      "Model saved to data/models/sodiumcl10_model_58.pth\n"
     ]
    },
    {
     "name": "stderr",
     "output_type": "stream",
     "text": [
      "1244it [00:28, 44.24it/s]\n",
      "1244it [00:22, 54.39it/s]\n"
     ]
    },
    {
     "name": "stdout",
     "output_type": "stream",
     "text": [
      "Epoch [60/100], Train Loss: 2.3474, Test Loss: 2.0282, Avg NDCG Score: 0.7636\n",
      "Model saved to data/models/sodiumcl10_model_59.pth\n"
     ]
    },
    {
     "name": "stderr",
     "output_type": "stream",
     "text": [
      "1244it [00:28, 43.25it/s]\n",
      "1244it [00:22, 54.17it/s]\n"
     ]
    },
    {
     "name": "stdout",
     "output_type": "stream",
     "text": [
      "Epoch [61/100], Train Loss: 2.3457, Test Loss: 2.0069, Avg NDCG Score: 0.7618\n",
      "Model saved to data/models/sodiumcl10_model_60.pth\n"
     ]
    },
    {
     "name": "stderr",
     "output_type": "stream",
     "text": [
      "1244it [00:28, 43.95it/s]\n",
      "1244it [00:23, 53.87it/s]\n"
     ]
    },
    {
     "name": "stdout",
     "output_type": "stream",
     "text": [
      "Epoch [62/100], Train Loss: 2.3603, Test Loss: 1.9887, Avg NDCG Score: 0.7627\n",
      "Model saved to data/models/sodiumcl10_model_61.pth\n"
     ]
    },
    {
     "name": "stderr",
     "output_type": "stream",
     "text": [
      "1244it [00:28, 43.21it/s]\n",
      "1244it [00:23, 53.76it/s]\n"
     ]
    },
    {
     "name": "stdout",
     "output_type": "stream",
     "text": [
      "Epoch [63/100], Train Loss: 2.3421, Test Loss: 1.9787, Avg NDCG Score: 0.7628\n",
      "Model saved to data/models/sodiumcl10_model_62.pth\n"
     ]
    },
    {
     "name": "stderr",
     "output_type": "stream",
     "text": [
      "1244it [00:28, 43.62it/s]\n",
      "1244it [00:23, 53.84it/s]\n"
     ]
    },
    {
     "name": "stdout",
     "output_type": "stream",
     "text": [
      "Epoch [64/100], Train Loss: 2.3448, Test Loss: 1.9887, Avg NDCG Score: 0.7619\n",
      "Model saved to data/models/sodiumcl10_model_63.pth\n"
     ]
    },
    {
     "name": "stderr",
     "output_type": "stream",
     "text": [
      "1244it [00:28, 44.12it/s]\n",
      "1244it [00:23, 53.89it/s]\n"
     ]
    },
    {
     "name": "stdout",
     "output_type": "stream",
     "text": [
      "Epoch [65/100], Train Loss: 2.3464, Test Loss: 1.9749, Avg NDCG Score: 0.7624\n",
      "Model saved to data/models/sodiumcl10_model_64.pth\n"
     ]
    },
    {
     "name": "stderr",
     "output_type": "stream",
     "text": [
      "1244it [00:29, 42.70it/s]\n",
      "1244it [00:22, 55.99it/s]\n"
     ]
    },
    {
     "name": "stdout",
     "output_type": "stream",
     "text": [
      "Epoch [66/100], Train Loss: 2.3409, Test Loss: 1.9852, Avg NDCG Score: 0.7614\n",
      "Model saved to data/models/sodiumcl10_model_65.pth\n"
     ]
    },
    {
     "name": "stderr",
     "output_type": "stream",
     "text": [
      "1244it [00:28, 43.90it/s]\n",
      "1244it [00:22, 54.16it/s]\n"
     ]
    },
    {
     "name": "stdout",
     "output_type": "stream",
     "text": [
      "Epoch [67/100], Train Loss: 2.3465, Test Loss: 1.9876, Avg NDCG Score: 0.7612\n",
      "Model saved to data/models/sodiumcl10_model_66.pth\n"
     ]
    },
    {
     "name": "stderr",
     "output_type": "stream",
     "text": [
      "1244it [00:28, 43.17it/s]\n",
      "1244it [00:22, 56.19it/s]\n"
     ]
    },
    {
     "name": "stdout",
     "output_type": "stream",
     "text": [
      "Epoch [68/100], Train Loss: 2.3494, Test Loss: 1.9853, Avg NDCG Score: 0.7657\n",
      "Model saved to data/models/sodiumcl10_model_67.pth\n"
     ]
    },
    {
     "name": "stderr",
     "output_type": "stream",
     "text": [
      "1244it [00:28, 43.82it/s]\n",
      "1244it [00:22, 54.19it/s]\n"
     ]
    },
    {
     "name": "stdout",
     "output_type": "stream",
     "text": [
      "Epoch [69/100], Train Loss: 2.3459, Test Loss: 2.0023, Avg NDCG Score: 0.7627\n",
      "Model saved to data/models/sodiumcl10_model_68.pth\n"
     ]
    },
    {
     "name": "stderr",
     "output_type": "stream",
     "text": [
      "1244it [00:28, 43.18it/s]\n",
      "1244it [00:23, 54.06it/s]\n"
     ]
    },
    {
     "name": "stdout",
     "output_type": "stream",
     "text": [
      "Epoch [70/100], Train Loss: 2.3470, Test Loss: 1.9877, Avg NDCG Score: 0.7651\n",
      "Model saved to data/models/sodiumcl10_model_69.pth\n"
     ]
    },
    {
     "name": "stderr",
     "output_type": "stream",
     "text": [
      "1244it [00:29, 42.81it/s]\n",
      "1244it [00:22, 55.72it/s]\n"
     ]
    },
    {
     "name": "stdout",
     "output_type": "stream",
     "text": [
      "Epoch [71/100], Train Loss: 2.3457, Test Loss: 1.9871, Avg NDCG Score: 0.7612\n",
      "Model saved to data/models/sodiumcl10_model_70.pth\n"
     ]
    },
    {
     "name": "stderr",
     "output_type": "stream",
     "text": [
      "1244it [00:28, 43.25it/s]\n",
      "1244it [00:22, 54.42it/s]\n"
     ]
    },
    {
     "name": "stdout",
     "output_type": "stream",
     "text": [
      "Epoch [72/100], Train Loss: 2.3431, Test Loss: 1.9835, Avg NDCG Score: 0.7635\n",
      "Model saved to data/models/sodiumcl10_model_71.pth\n"
     ]
    },
    {
     "name": "stderr",
     "output_type": "stream",
     "text": [
      "1244it [00:28, 43.18it/s]\n",
      "1244it [00:22, 54.49it/s]\n"
     ]
    },
    {
     "name": "stdout",
     "output_type": "stream",
     "text": [
      "Epoch [73/100], Train Loss: 2.3545, Test Loss: 1.9972, Avg NDCG Score: 0.7625\n",
      "Model saved to data/models/sodiumcl10_model_72.pth\n"
     ]
    },
    {
     "name": "stderr",
     "output_type": "stream",
     "text": [
      "1244it [00:28, 43.25it/s]\n",
      "1244it [00:23, 53.62it/s]\n"
     ]
    },
    {
     "name": "stdout",
     "output_type": "stream",
     "text": [
      "Epoch [74/100], Train Loss: 2.3565, Test Loss: 2.0169, Avg NDCG Score: 0.7610\n",
      "Model saved to data/models/sodiumcl10_model_73.pth\n"
     ]
    },
    {
     "name": "stderr",
     "output_type": "stream",
     "text": [
      "1244it [00:28, 43.10it/s]\n",
      "1244it [00:22, 54.23it/s]\n"
     ]
    },
    {
     "name": "stdout",
     "output_type": "stream",
     "text": [
      "Epoch [75/100], Train Loss: 2.3632, Test Loss: 1.9907, Avg NDCG Score: 0.7607\n",
      "Model saved to data/models/sodiumcl10_model_74.pth\n"
     ]
    },
    {
     "name": "stderr",
     "output_type": "stream",
     "text": [
      "1244it [00:29, 42.83it/s]\n",
      "1244it [00:23, 53.89it/s]\n"
     ]
    },
    {
     "name": "stdout",
     "output_type": "stream",
     "text": [
      "Epoch [76/100], Train Loss: 2.3566, Test Loss: 1.9748, Avg NDCG Score: 0.7651\n",
      "Model saved to data/models/sodiumcl10_model_75.pth\n"
     ]
    },
    {
     "name": "stderr",
     "output_type": "stream",
     "text": [
      "1244it [00:28, 43.73it/s]\n",
      "1244it [00:22, 54.26it/s]\n"
     ]
    },
    {
     "name": "stdout",
     "output_type": "stream",
     "text": [
      "Epoch [77/100], Train Loss: 2.3479, Test Loss: 2.0050, Avg NDCG Score: 0.7616\n",
      "Model saved to data/models/sodiumcl10_model_76.pth\n"
     ]
    },
    {
     "name": "stderr",
     "output_type": "stream",
     "text": [
      "1244it [00:28, 44.28it/s]\n",
      "1244it [00:22, 54.42it/s]\n"
     ]
    },
    {
     "name": "stdout",
     "output_type": "stream",
     "text": [
      "Epoch [78/100], Train Loss: 2.3524, Test Loss: 1.9795, Avg NDCG Score: 0.7622\n",
      "Model saved to data/models/sodiumcl10_model_77.pth\n"
     ]
    },
    {
     "name": "stderr",
     "output_type": "stream",
     "text": [
      "1244it [00:28, 43.26it/s]\n",
      "1244it [00:22, 54.20it/s]\n"
     ]
    },
    {
     "name": "stdout",
     "output_type": "stream",
     "text": [
      "Epoch [79/100], Train Loss: 2.3460, Test Loss: 2.0044, Avg NDCG Score: 0.7621\n",
      "Model saved to data/models/sodiumcl10_model_78.pth\n"
     ]
    },
    {
     "name": "stderr",
     "output_type": "stream",
     "text": [
      "1244it [00:28, 43.85it/s]\n",
      "1244it [00:22, 56.05it/s]\n"
     ]
    },
    {
     "name": "stdout",
     "output_type": "stream",
     "text": [
      "Epoch [80/100], Train Loss: 2.3439, Test Loss: 2.0123, Avg NDCG Score: 0.7625\n",
      "Model saved to data/models/sodiumcl10_model_79.pth\n"
     ]
    },
    {
     "name": "stderr",
     "output_type": "stream",
     "text": [
      "1244it [00:28, 43.55it/s]\n",
      "1244it [00:23, 53.99it/s]\n"
     ]
    },
    {
     "name": "stdout",
     "output_type": "stream",
     "text": [
      "Epoch [81/100], Train Loss: 2.3507, Test Loss: 1.9949, Avg NDCG Score: 0.7620\n",
      "Model saved to data/models/sodiumcl10_model_80.pth\n"
     ]
    },
    {
     "name": "stderr",
     "output_type": "stream",
     "text": [
      "1244it [00:28, 42.93it/s]\n",
      "1244it [00:22, 56.00it/s]\n"
     ]
    },
    {
     "name": "stdout",
     "output_type": "stream",
     "text": [
      "Epoch [82/100], Train Loss: 2.3529, Test Loss: 1.9945, Avg NDCG Score: 0.7610\n",
      "Model saved to data/models/sodiumcl10_model_81.pth\n"
     ]
    },
    {
     "name": "stderr",
     "output_type": "stream",
     "text": [
      "1244it [00:28, 43.96it/s]\n",
      "1244it [00:22, 54.35it/s]\n"
     ]
    },
    {
     "name": "stdout",
     "output_type": "stream",
     "text": [
      "Epoch [83/100], Train Loss: 2.3458, Test Loss: 1.9796, Avg NDCG Score: 0.7607\n",
      "Model saved to data/models/sodiumcl10_model_82.pth\n"
     ]
    },
    {
     "name": "stderr",
     "output_type": "stream",
     "text": [
      "1244it [00:28, 44.19it/s]\n",
      "1244it [00:23, 54.03it/s]\n"
     ]
    },
    {
     "name": "stdout",
     "output_type": "stream",
     "text": [
      "Epoch [84/100], Train Loss: 2.3442, Test Loss: 2.0129, Avg NDCG Score: 0.7561\n",
      "Model saved to data/models/sodiumcl10_model_83.pth\n"
     ]
    },
    {
     "name": "stderr",
     "output_type": "stream",
     "text": [
      "1244it [00:28, 44.24it/s]\n",
      "1244it [00:23, 53.54it/s]\n"
     ]
    },
    {
     "name": "stdout",
     "output_type": "stream",
     "text": [
      "Epoch [85/100], Train Loss: 2.3472, Test Loss: 2.0043, Avg NDCG Score: 0.7612\n",
      "Model saved to data/models/sodiumcl10_model_84.pth\n"
     ]
    },
    {
     "name": "stderr",
     "output_type": "stream",
     "text": [
      "1244it [00:28, 43.75it/s]\n",
      "1244it [00:22, 54.09it/s]\n"
     ]
    },
    {
     "name": "stdout",
     "output_type": "stream",
     "text": [
      "Epoch [86/100], Train Loss: 2.3542, Test Loss: 1.9819, Avg NDCG Score: 0.7632\n",
      "Model saved to data/models/sodiumcl10_model_85.pth\n"
     ]
    },
    {
     "name": "stderr",
     "output_type": "stream",
     "text": [
      "1244it [00:28, 43.23it/s]\n",
      "1244it [00:22, 56.12it/s]\n"
     ]
    },
    {
     "name": "stdout",
     "output_type": "stream",
     "text": [
      "Epoch [87/100], Train Loss: 2.3505, Test Loss: 1.9866, Avg NDCG Score: 0.7597\n",
      "Model saved to data/models/sodiumcl10_model_86.pth\n"
     ]
    },
    {
     "name": "stderr",
     "output_type": "stream",
     "text": [
      "1244it [00:28, 43.94it/s]\n",
      "1244it [00:23, 53.42it/s]\n"
     ]
    },
    {
     "name": "stdout",
     "output_type": "stream",
     "text": [
      "Epoch [88/100], Train Loss: 2.3386, Test Loss: 1.9992, Avg NDCG Score: 0.7623\n",
      "Model saved to data/models/sodiumcl10_model_87.pth\n"
     ]
    },
    {
     "name": "stderr",
     "output_type": "stream",
     "text": [
      "1244it [00:28, 43.83it/s]\n",
      "1244it [00:23, 53.84it/s]\n"
     ]
    },
    {
     "name": "stdout",
     "output_type": "stream",
     "text": [
      "Epoch [89/100], Train Loss: 2.3464, Test Loss: 1.9980, Avg NDCG Score: 0.7617\n",
      "Model saved to data/models/sodiumcl10_model_88.pth\n"
     ]
    },
    {
     "name": "stderr",
     "output_type": "stream",
     "text": [
      "1244it [00:28, 43.36it/s]\n",
      "1244it [00:22, 54.47it/s]\n"
     ]
    },
    {
     "name": "stdout",
     "output_type": "stream",
     "text": [
      "Epoch [90/100], Train Loss: 2.3545, Test Loss: 1.9793, Avg NDCG Score: 0.7627\n",
      "Model saved to data/models/sodiumcl10_model_89.pth\n"
     ]
    },
    {
     "name": "stderr",
     "output_type": "stream",
     "text": [
      "1244it [00:28, 43.30it/s]\n",
      "1244it [00:23, 53.94it/s]\n"
     ]
    },
    {
     "name": "stdout",
     "output_type": "stream",
     "text": [
      "Epoch [91/100], Train Loss: 2.3494, Test Loss: 1.9936, Avg NDCG Score: 0.7637\n",
      "Model saved to data/models/sodiumcl10_model_90.pth\n"
     ]
    },
    {
     "name": "stderr",
     "output_type": "stream",
     "text": [
      "1244it [00:28, 43.12it/s]\n",
      "1244it [00:22, 54.15it/s]\n"
     ]
    },
    {
     "name": "stdout",
     "output_type": "stream",
     "text": [
      "Epoch [92/100], Train Loss: 2.3462, Test Loss: 1.9876, Avg NDCG Score: 0.7614\n",
      "Model saved to data/models/sodiumcl10_model_91.pth\n"
     ]
    },
    {
     "name": "stderr",
     "output_type": "stream",
     "text": [
      "1244it [00:28, 43.14it/s]\n",
      "1244it [00:23, 54.03it/s]\n"
     ]
    },
    {
     "name": "stdout",
     "output_type": "stream",
     "text": [
      "Epoch [93/100], Train Loss: 2.3551, Test Loss: 1.9879, Avg NDCG Score: 0.7620\n",
      "Model saved to data/models/sodiumcl10_model_92.pth\n"
     ]
    },
    {
     "name": "stderr",
     "output_type": "stream",
     "text": [
      "1244it [00:28, 43.20it/s]\n",
      "1244it [00:22, 55.26it/s]\n"
     ]
    },
    {
     "name": "stdout",
     "output_type": "stream",
     "text": [
      "Epoch [94/100], Train Loss: 2.3380, Test Loss: 1.9880, Avg NDCG Score: 0.7595\n",
      "Model saved to data/models/sodiumcl10_model_93.pth\n"
     ]
    },
    {
     "name": "stderr",
     "output_type": "stream",
     "text": [
      "1244it [00:28, 43.31it/s]\n",
      "1244it [00:22, 54.33it/s]\n"
     ]
    },
    {
     "name": "stdout",
     "output_type": "stream",
     "text": [
      "Epoch [95/100], Train Loss: 2.3521, Test Loss: 1.9892, Avg NDCG Score: 0.7623\n",
      "Model saved to data/models/sodiumcl10_model_94.pth\n"
     ]
    },
    {
     "name": "stderr",
     "output_type": "stream",
     "text": [
      "1244it [00:28, 44.18it/s]\n",
      "1244it [00:22, 55.55it/s]\n"
     ]
    },
    {
     "name": "stdout",
     "output_type": "stream",
     "text": [
      "Epoch [96/100], Train Loss: 2.3473, Test Loss: 1.9815, Avg NDCG Score: 0.7637\n",
      "Model saved to data/models/sodiumcl10_model_95.pth\n"
     ]
    },
    {
     "name": "stderr",
     "output_type": "stream",
     "text": [
      "1244it [00:28, 43.23it/s]\n",
      "1244it [00:22, 54.24it/s]\n"
     ]
    },
    {
     "name": "stdout",
     "output_type": "stream",
     "text": [
      "Epoch [97/100], Train Loss: 2.3412, Test Loss: 1.9901, Avg NDCG Score: 0.7644\n",
      "Model saved to data/models/sodiumcl10_model_96.pth\n"
     ]
    },
    {
     "name": "stderr",
     "output_type": "stream",
     "text": [
      "1244it [00:28, 43.17it/s]\n",
      "1244it [00:22, 54.58it/s]\n"
     ]
    },
    {
     "name": "stdout",
     "output_type": "stream",
     "text": [
      "Epoch [98/100], Train Loss: 2.3466, Test Loss: 1.9944, Avg NDCG Score: 0.7621\n",
      "Model saved to data/models/sodiumcl10_model_97.pth\n"
     ]
    },
    {
     "name": "stderr",
     "output_type": "stream",
     "text": [
      "1244it [00:28, 43.20it/s]\n",
      "1244it [00:22, 54.43it/s]\n"
     ]
    },
    {
     "name": "stdout",
     "output_type": "stream",
     "text": [
      "Epoch [99/100], Train Loss: 2.3524, Test Loss: 1.9943, Avg NDCG Score: 0.7626\n",
      "Model saved to data/models/sodiumcl10_model_98.pth\n"
     ]
    },
    {
     "name": "stderr",
     "output_type": "stream",
     "text": [
      "1244it [00:28, 44.10it/s]\n",
      "1244it [00:22, 54.47it/s]\n"
     ]
    },
    {
     "name": "stdout",
     "output_type": "stream",
     "text": [
      "Epoch [100/100], Train Loss: 2.3439, Test Loss: 1.9976, Avg NDCG Score: 0.7620\n",
      "Model saved to data/models/sodiumcl10_model_99.pth\n"
     ]
    }
   ],
   "source": [
    "# Training\n",
    "norm_penalty = 0.001\n",
    "total_epoches = 100\n",
    "\n",
    "for epoch in range(total_epoches):\n",
    "    model.train()\n",
    "    train_loss, test_loss = 0., 0.\n",
    "    for batch_id, (user, book, rating, tag_embedding, rating_embedding) in tqdm(enumerate(train_loader)):\n",
    "        user = user.cuda()\n",
    "        book = book.cuda()\n",
    "        rating = rating.cuda()\n",
    "        tag_embedding = tag_embedding.squeeze(1).cuda()\n",
    "        rating_embedding = rating_embedding.squeeze(1).cuda()\n",
    "        optimizer.zero_grad()\n",
    "        pred = model(user, book, tag_embedding, rating_embedding)\n",
    "        loss = criterion(pred, rating.unsqueeze(1))\n",
    "        l2_loss = norm_penalty * sum(p.pow(2.0).sum().sqrt() for p in model.parameters())\n",
    "        loss += l2_loss\n",
    "    \n",
    "        loss.backward()\n",
    "        optimizer.step()\n",
    "        train_loss += loss.item()\n",
    "    model.eval()\n",
    "    average_train_loss = train_loss / (batch_id + 1)\n",
    "    results = []\n",
    "\n",
    "    with torch.no_grad():\n",
    "        for batch_id, (user, book, rating, tag_embedding, rating_embedding) in tqdm(enumerate(test_loader)):\n",
    "            user = user.cuda()\n",
    "            book = book.cuda()\n",
    "            rating = rating.cuda()\n",
    "            tag_embedding = tag_embedding.squeeze(1).cuda()\n",
    "            rating_embedding = rating_embedding.squeeze(1).cuda()\n",
    "            pred = model(user, book, tag_embedding, rating_embedding)\n",
    "            loss = criterion(pred, rating.unsqueeze(1))\n",
    "            test_loss += loss.item()\n",
    "\n",
    "            user_ids = user.cpu().unsqueeze(1)\n",
    "            # pred_ratings = pred.cpu().unsqueeze(1)\n",
    "            pred_ratings = pred.cpu()\n",
    "            true_ratings = rating.cpu().unsqueeze(1)\n",
    "            results.append(torch.cat([user_ids, pred_ratings, true_ratings], dim=1))\n",
    "        \n",
    "        results = torch.cat(results).numpy()\n",
    "        results_dataframe = pd.DataFrame(results, columns=['user_id', 'pred_rating', 'true_rating'])\n",
    "        avg_ndcg_scores = []\n",
    "        \n",
    "        for user_id in results_dataframe['user_id'].unique():\n",
    "            user_data = results_dataframe[results_dataframe['user_id'] == user_id]\n",
    "            if len(user_data) > 1:\n",
    "                avg_ndcg_scores.append(torch.tensor(ndcg_score([user_data['true_rating'].values], [user_data['pred_rating'].values], k=50)))\n",
    "    \n",
    "        avg_ndcg_scores = torch.stack(avg_ndcg_scores)\n",
    "        avg_ndcg_score = avg_ndcg_scores.mean()\n",
    "        \n",
    "        average_test_loss = test_loss / (batch_id + 1)\n",
    "    print('Epoch [{}/{}], Train Loss: {:.4f}, Test Loss: {:.4f}, Avg NDCG Score: {:.4f}'.format(epoch+1, total_epoches, average_train_loss, average_test_loss, avg_ndcg_score))\n",
    "    torch.save(model, 'data/models/sodiumcl10_model_{}.pth'.format(epoch))\n",
    "    print(\"Model saved to data/models/sodiumcl10_model_{}.pth\".format(epoch))"
   ]
  }
 ],
 "metadata": {
  "kernelspec": {
   "display_name": "base",
   "language": "python",
   "name": "python3"
  },
  "language_info": {
   "codemirror_mode": {
    "name": "ipython",
    "version": 3
   },
   "file_extension": ".py",
   "mimetype": "text/x-python",
   "name": "python",
   "nbconvert_exporter": "python",
   "pygments_lexer": "ipython3",
   "version": "3.11.5"
  }
 },
 "nbformat": 4,
 "nbformat_minor": 2
}
